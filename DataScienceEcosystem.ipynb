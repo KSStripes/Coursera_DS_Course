{
 "cells": [
  {
   "cell_type": "markdown",
   "id": "e19018ae",
   "metadata": {},
   "source": [
    "# Data Science Tools and Ecosystem"
   ]
  },
  {
   "cell_type": "markdown",
   "id": "a3aa624f",
   "metadata": {},
   "source": [
    "In this notebook, Data Science Tools and Ecosystem are summarized."
   ]
  },
  {
   "cell_type": "markdown",
   "id": "1ce7034d",
   "metadata": {},
   "source": [
    "**Objectives:**\n",
    "\n",
    "* List some popular data science languages and libraries\n",
    "* List some popular data sciences tools and environments\n",
    "* Perform some basic arithmetic operations"
   ]
  },
  {
   "cell_type": "markdown",
   "id": "7a53a802",
   "metadata": {},
   "source": [
    "Some of the popular languages that Data Scientist use are: \n",
    "\n",
    "    1. Python\n",
    "    2. Scala\n",
    "    3. Julia"
   ]
  },
  {
   "cell_type": "markdown",
   "id": "e81ae08a",
   "metadata": {},
   "source": [
    "Some of the commonly used libraries used by Data Scientists include: \n",
    "\n",
    "    1. Pandas\n",
    "    2. Numpy\n",
    "    3. Matplotlib"
   ]
  },
  {
   "cell_type": "markdown",
   "id": "565997c1",
   "metadata": {},
   "source": [
    "| Data Science Tools |\n",
    "|--------------------|\n",
    "| VSCode             |\n",
    "| RStudio            |\n",
    "| Jupyter Notebook   |"
   ]
  },
  {
   "cell_type": "markdown",
   "id": "61ab5559",
   "metadata": {},
   "source": [
    "### Below are a few examples of evaluating arithmetic expressions in Python."
   ]
  },
  {
   "cell_type": "code",
   "execution_count": 1,
   "id": "439c1b6f",
   "metadata": {},
   "outputs": [
    {
     "data": {
      "text/plain": [
       "17"
      ]
     },
     "execution_count": 1,
     "metadata": {},
     "output_type": "execute_result"
    }
   ],
   "source": [
    "# This is a simple arithmetic expresssion to multiply and then add integers.\n",
    "(3*4)+5"
   ]
  },
  {
   "cell_type": "code",
   "execution_count": 2,
   "id": "fcc4202c",
   "metadata": {},
   "outputs": [
    {
     "data": {
      "text/plain": [
       "3.3333333333333335"
      ]
     },
     "execution_count": 2,
     "metadata": {},
     "output_type": "execute_result"
    }
   ],
   "source": [
    "# This will convert 200 minutes to hours by dividing by 60\n",
    "\n",
    "def minutes_to_hours(min):\n",
    "    hours = min / 60\n",
    "    return hours\n",
    "\n",
    "minutes_to_hours(200)"
   ]
  },
  {
   "cell_type": "markdown",
   "id": "347fe3e1",
   "metadata": {},
   "source": [
    "## Author\n",
    "Kristin Schumann"
   ]
  },
  {
   "cell_type": "code",
   "execution_count": null,
   "id": "a3d553b5",
   "metadata": {},
   "outputs": [],
   "source": []
  }
 ],
 "metadata": {
  "kernelspec": {
   "display_name": "Python 3 (ipykernel)",
   "language": "python",
   "name": "python3"
  },
  "language_info": {
   "codemirror_mode": {
    "name": "ipython",
    "version": 3
   },
   "file_extension": ".py",
   "mimetype": "text/x-python",
   "name": "python",
   "nbconvert_exporter": "python",
   "pygments_lexer": "ipython3",
   "version": "3.11.7"
  }
 },
 "nbformat": 4,
 "nbformat_minor": 5
}
